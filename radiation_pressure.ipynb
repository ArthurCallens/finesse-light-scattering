{
 "cells": [
  {
   "cell_type": "code",
   "execution_count": 1,
   "id": "ff1d5b2d",
   "metadata": {},
   "outputs": [],
   "source": [
    "import finesse\n",
    "finesse.configure(plotting=True)\n",
    "\n",
    "kat = finesse.Model()\n",
    "kat.parse(\n",
    "    \"\"\"\n",
    "    # Optical setup: laser, space and mirror:\n",
    "    l l1 P=1\n",
    "    s s1 l1.p1 m1.p1\n",
    "    m m1 R=1 T=0\n",
    "\n",
    "    # Define a pendulum for our mirror, with a z-motion resonance at 10Hz\n",
    "    # and Q factor of 1000\n",
    "    pendulum sus1 m1.mech mass=1 fz=10 Qz=1000\n",
    "\n",
    "    # Measure the mirror's longitudinal motion\n",
    "    xd m1_z m1.mech.z\n",
    "\n",
    "    # Set a signal frequency to activate the signal simulation\n",
    "    # (needed for radiation pressure effects to be observed)\n",
    "    fsig(1)\n",
    "\n",
    "    # Generate amplitude modulation at the laser\n",
    "    sgen sig l1.amp\n",
    "    \"\"\"\n",
    ")"
   ]
  },
  {
   "cell_type": "code",
   "execution_count": null,
   "id": "1f74c594",
   "metadata": {},
   "outputs": [],
   "source": []
  }
 ],
 "metadata": {
  "kernelspec": {
   "display_name": "Python (finesse)",
   "language": "python",
   "name": "finesse"
  },
  "language_info": {
   "codemirror_mode": {
    "name": "ipython",
    "version": 3
   },
   "file_extension": ".py",
   "mimetype": "text/x-python",
   "name": "python",
   "nbconvert_exporter": "python",
   "pygments_lexer": "ipython3",
   "version": "3.10.18"
  }
 },
 "nbformat": 4,
 "nbformat_minor": 5
}
